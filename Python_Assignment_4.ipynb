{
 "cells": [
  {
   "cell_type": "code",
   "execution_count": 21,
   "metadata": {},
   "outputs": [],
   "source": [
    "# 1.1 Write a Python Program(with class concepts) to find the area of the triangle using the below\n",
    "# formula.\n",
    "# area = (s*(s-a)*(s-b)*(s-c)) ** 0.5\n",
    "# Function to take the length of the sides of triangle from user should be defined in the parent\n",
    "# class and function to calculate the area should be defined in subclass."
   ]
  },
  {
   "cell_type": "code",
   "execution_count": 15,
   "metadata": {},
   "outputs": [
    {
     "name": "stdout",
     "output_type": "stream",
     "text": [
      "Enter side 1 : 3\n",
      "Enter side 2 : 5\n",
      "Enter side 3 : 4\n",
      "The area of the triangle is 6.00\n"
     ]
    }
   ],
   "source": [
    "class tri_sides:\n",
    "    def __init__(self, no_of_sides):\n",
    "        self.no_of_sides = no_of_sides\n",
    "        self.sides = [0 for i in range(no_of_sides)]\n",
    "\n",
    "    def inputSides(self):\n",
    "        self.sides = [float(input(\"Enter side \"+str(i+1)+\" : \")) for i in range(self.no_of_sides)]\n",
    "        \n",
    "        \n",
    "class tri_area(tri_sides):\n",
    "    def __init__(self):\n",
    "        tri_sides.__init__(self,3)\n",
    "\n",
    "    def findArea(self):\n",
    "        a, b, c = self.sides\n",
    "        # calculate the semi-perimeter\n",
    "        s = (a + b + c) / 2\n",
    "        area = (s*(s-a)*(s-b)*(s-c)) ** 0.5\n",
    "        print('The area of the triangle is %0.2f' %area)\n",
    "        \n",
    "t = tri_area()\n",
    "t.inputSides()\n",
    "t.findArea()"
   ]
  },
  {
   "cell_type": "code",
   "execution_count": 16,
   "metadata": {},
   "outputs": [],
   "source": [
    "# 1.2 Write a function filter_long_words() that takes a list of words and an integer n and returns\n",
    "# the list of words that are longer than n."
   ]
  },
  {
   "cell_type": "code",
   "execution_count": 2,
   "metadata": {},
   "outputs": [
    {
     "name": "stdout",
     "output_type": "stream",
     "text": [
      "tomcruise\n",
      "maginbuu\n",
      "naruto\n",
      "sasuke\n"
     ]
    }
   ],
   "source": [
    "def filter_long_words(n, word_list):\n",
    "    for i in word_list:\n",
    "        if len(i) > n: \n",
    "            print(i)\n",
    "\n",
    "lst = ['abc', 'kevin', 'tomcruise', 'maginbuu', 'naruto', 'sasuke']            \n",
    "            \n",
    "filter_long_words(5, lst)        \n",
    "    "
   ]
  },
  {
   "cell_type": "code",
   "execution_count": 18,
   "metadata": {},
   "outputs": [],
   "source": [
    "# 2.1 Write a Python program using function concept that maps list of words into a list of integers\n",
    "# representing the lengths of the corresponding words.\n",
    "# Hint: If a list [ ab,cde,erty] is passed on to the python function output should come as [2,3,4]\n",
    "# Here 2,3 and 4 are the lengths of the words in the list."
   ]
  },
  {
   "cell_type": "code",
   "execution_count": 17,
   "metadata": {},
   "outputs": [
    {
     "name": "stdout",
     "output_type": "stream",
     "text": [
      "length of the words in the array is : [3, 5, 9, 8, 6, 6]\n"
     ]
    }
   ],
   "source": [
    "lst = ['abc', 'kevin', 'tomcruise', 'maginbuu', 'naruto', 'sasuke'] \n",
    "\n",
    "length = []\n",
    "\n",
    "def length_of_words(word_list):\n",
    "    \n",
    "    for word in word_list:\n",
    "        length.append(len(word))\n",
    "    return length          \n",
    "                   \n",
    "length_of_words(lst)\n",
    "print('length of the words in the array is : {}'.format(length))"
   ]
  },
  {
   "cell_type": "code",
   "execution_count": 20,
   "metadata": {},
   "outputs": [],
   "source": [
    "# 2.2 Write a Python function which takes a character (i.e. a string of length 1) and returns True if\n",
    "# it is a vowel, False otherwise."
   ]
  },
  {
   "cell_type": "code",
   "execution_count": 19,
   "metadata": {},
   "outputs": [
    {
     "name": "stdout",
     "output_type": "stream",
     "text": [
      "Enter a character: a\n",
      "a is a vowel.\n"
     ]
    }
   ],
   "source": [
    "def vowel_checker(ch):\n",
    " if(ch == 'a' or ch == 'e' or ch == 'i' or ch == 'o' or ch == 'u'):\n",
    "  return True\n",
    " else:\n",
    "  return False\n",
    "\n",
    "character = input(\"Enter a character: \")\n",
    "\n",
    "if (character.isalpha() == False):\n",
    " exit()\n",
    "\n",
    "if (vowel_checker(character)):\n",
    " print(character, \"is a vowel.\")\n",
    "else:\n",
    " print(character, \"is not a vowel.\")\n"
   ]
  },
  {
   "cell_type": "code",
   "execution_count": null,
   "metadata": {},
   "outputs": [],
   "source": []
  }
 ],
 "metadata": {
  "kernelspec": {
   "display_name": "Python 3",
   "language": "python",
   "name": "python3"
  },
  "language_info": {
   "codemirror_mode": {
    "name": "ipython",
    "version": 3
   },
   "file_extension": ".py",
   "mimetype": "text/x-python",
   "name": "python",
   "nbconvert_exporter": "python",
   "pygments_lexer": "ipython3",
   "version": "3.7.6"
  }
 },
 "nbformat": 4,
 "nbformat_minor": 4
}
