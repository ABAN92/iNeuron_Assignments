{
 "cells": [
  {
   "cell_type": "markdown",
   "metadata": {},
   "source": [
    "###  1.1 Write a Python Program to implement your own myreduce() function which works exactly like Python's built-in function reduce()"
   ]
  },
  {
   "cell_type": "code",
   "execution_count": 10,
   "metadata": {},
   "outputs": [
    {
     "data": {
      "text/plain": [
       "6"
      ]
     },
     "execution_count": 10,
     "metadata": {},
     "output_type": "execute_result"
    }
   ],
   "source": [
    "# Building a custom reduce function \n",
    "def my_reduce(any_func, sequence):\n",
    " # extract the first element from the sequence & assign it to the var\n",
    "  var = sequence[0]\n",
    " # iterate over remaining elements in the sequence & implement reduction functionality \n",
    "  for element in sequence[1:]:\n",
    "   var = any_func(var, element)\n",
    "  return var\n",
    "\n",
    "# Defining a addition function \n",
    "def summation(a, b): \n",
    "    return a + b\n",
    "\n",
    "# Creating iterable \n",
    "lst = [1, 2, 3]\n",
    "\n",
    "myreduce(summation, lst)\n"
   ]
  },
  {
   "cell_type": "code",
   "execution_count": 11,
   "metadata": {},
   "outputs": [
    {
     "data": {
      "text/plain": [
       "-121"
      ]
     },
     "execution_count": 11,
     "metadata": {},
     "output_type": "execute_result"
    }
   ],
   "source": [
    "# iterable element \n",
    "sample_tuple = (1, 22, 34, 12, 54)\n",
    "\n",
    "# Defining a subtraction function \n",
    "def subtraction(a, b): \n",
    "    return a - b\n",
    "\n",
    "# Implementing subtraction function\n",
    "myreduce(subtraction, sample_tuple)"
   ]
  },
  {
   "cell_type": "markdown",
   "metadata": {},
   "source": [
    "### 1.2   Write a Python program to implement your own myfilter() function which works     exactly like Python's built-in function filter()"
   ]
  },
  {
   "cell_type": "code",
   "execution_count": 14,
   "metadata": {},
   "outputs": [
    {
     "name": "stdout",
     "output_type": "stream",
     "text": [
      "odd\n",
      "even\n",
      "odd\n",
      "even\n",
      "odd\n"
     ]
    },
    {
     "data": {
      "text/plain": [
       "[]"
      ]
     },
     "execution_count": 14,
     "metadata": {},
     "output_type": "execute_result"
    }
   ],
   "source": [
    "# Building a custom filter function \n",
    "def my_filter(any_func, sequence):\n",
    " # Initializing an empty list\n",
    " var = []\n",
    " # iterating over sequence of elements in the iterable datatype & implementing filter functionality\n",
    " for element in sequence:\n",
    "  if any_func(element):\n",
    "   var.append(element)\n",
    " return var\n",
    "\n",
    "# Defining a function to determine even or odd number \n",
    "def even_odd(num):\n",
    "    if num%2 == 0:\n",
    "        print('even')\n",
    "    else:\n",
    "        print('odd')\n",
    "\n",
    "# Defining a list         \n",
    "lst = [1, 2, 3, 4, 5]\n",
    " \n",
    "# Implementing even and odd checking function\n",
    "my_filter(even_odd, lst)"
   ]
  },
  {
   "cell_type": "code",
   "execution_count": 18,
   "metadata": {},
   "outputs": [
    {
     "name": "stdout",
     "output_type": "stream",
     "text": [
      "[0, 2, 4, 6, 8, 10, 12, 14, 16, 18]\n",
      "(0, 2, 4, 6, 8, 10, 12, 14, 16, 18)\n"
     ]
    }
   ],
   "source": [
    "# iterable element \n",
    "lst = range(20)\n",
    "\n",
    "# Implementing lambda function for filtering even numbers in the lst\n",
    "print(list(my_filter(lambda x: x%2 == 0, lst)))\n",
    "print(tuple(my_filter(lambda x: x%2 == 0, lst)))"
   ]
  },
  {
   "cell_type": "markdown",
   "metadata": {},
   "source": [
    "### 2. Implement List comprehensions to produce the following lists.\n",
    "Write List comprehensions to produce the following Lists \n",
    "['A', 'C', 'A', 'D', 'G', 'I', ’L’, ‘ D’]\n",
    "['x', 'xx', 'xxx', 'xxxx', 'y', 'yy', 'yyy', 'yyyy', 'z', 'zz', 'zzz', 'zzzz']\n",
    "['x', 'y', 'z', 'xx', 'yy', 'zz', 'xxx', 'yyy', 'zzz', 'xxxx', 'yyyy', 'zzzz']\n",
    "[[2], [3], [4], [3], [4], [5], [4], [5], [6]] [[2, 3, 4, 5], [3, 4, 5, 6],\n",
    "[4, 5, 6, 7], [5, 6, 7, 8]]\n",
    "[(1, 1), (2, 1), (3, 1), (1, 2), (2, 2), (3, 2), (1, 3), (2, 3), (3, 3)]"
   ]
  },
  {
   "cell_type": "code",
   "execution_count": 46,
   "metadata": {},
   "outputs": [
    {
     "name": "stdout",
     "output_type": "stream",
     "text": [
      "['A', 'C', 'A', 'D', 'G', 'I', 'L', 'D']\n"
     ]
    }
   ],
   "source": [
    "alphabets = 'acadgild'\n",
    "\n",
    "output = [i.upper() for i in list(alphabets)]\n",
    "print(output)"
   ]
  },
  {
   "cell_type": "code",
   "execution_count": 25,
   "metadata": {},
   "outputs": [
    {
     "name": "stdout",
     "output_type": "stream",
     "text": [
      "['x', 'xx', 'xxx', 'xxxx', 'y', 'yy', 'yyy', 'yyyy', 'z', 'zz', 'zzz', 'zzzz']"
     ]
    }
   ],
   "source": [
    "lst = ['x', 'y', 'z']\n",
    "\n",
    "output = [ i*n for i in lst for n in range(1,5)]\n",
    "print(output, end = '')"
   ]
  },
  {
   "cell_type": "code",
   "execution_count": 24,
   "metadata": {},
   "outputs": [
    {
     "name": "stdout",
     "output_type": "stream",
     "text": [
      "['x', 'y', 'z', 'xx', 'yy', 'zz', 'xxx', 'yyy', 'zzz', 'xxxx', 'yyyy', 'zzzz']"
     ]
    }
   ],
   "source": [
    "lst = ['x', 'y', 'z']\n",
    "\n",
    "output = [ i*n for n in range(1, 5) for i in lst]\n",
    "print(output, end = '')"
   ]
  },
  {
   "cell_type": "code",
   "execution_count": 39,
   "metadata": {},
   "outputs": [
    {
     "name": "stdout",
     "output_type": "stream",
     "text": [
      "[[2], [3], [4], [3], [4], [5], [4], [5], [6]] [[2, 3, 4, 5], [3, 4, 5, 6], [4, 5, 6, 7], [5, 6, 7, 8]] "
     ]
    }
   ],
   "source": [
    "lst1 = [2, 3, 4]\n",
    "lst2 = [2, 3, 4, 5]\n",
    "\n",
    "output1 = [[i+n] for n in range(0, 3) for i in lst1]\n",
    "output2 = [[i+n for n in range(0, 4)] for i in lst2]\n",
    "\n",
    "print(str(output1),str(output2), end = ' ')"
   ]
  },
  {
   "cell_type": "code",
   "execution_count": 44,
   "metadata": {},
   "outputs": [
    {
     "name": "stdout",
     "output_type": "stream",
     "text": [
      "[(1, 1), (2, 1), (3, 1), (1, 2), (2, 2), (3, 2), (1, 3), (2, 3), (3, 3)]\n"
     ]
    }
   ],
   "source": [
    "lst = [1, 2, 3]\n",
    "\n",
    "output = [(n,i) for i in lst for n in lst]\n",
    "print(output)"
   ]
  },
  {
   "cell_type": "code",
   "execution_count": null,
   "metadata": {},
   "outputs": [],
   "source": []
  },
  {
   "cell_type": "code",
   "execution_count": null,
   "metadata": {},
   "outputs": [],
   "source": []
  }
 ],
 "metadata": {
  "kernelspec": {
   "display_name": "Python 3",
   "language": "python",
   "name": "python3"
  },
  "language_info": {
   "codemirror_mode": {
    "name": "ipython",
    "version": 3
   },
   "file_extension": ".py",
   "mimetype": "text/x-python",
   "name": "python",
   "nbconvert_exporter": "python",
   "pygments_lexer": "ipython3",
   "version": "3.7.6"
  }
 },
 "nbformat": 4,
 "nbformat_minor": 4
}
